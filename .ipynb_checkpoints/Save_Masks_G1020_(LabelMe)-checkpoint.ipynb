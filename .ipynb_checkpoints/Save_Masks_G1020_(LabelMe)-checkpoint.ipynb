{
 "cells": [
  {
   "cell_type": "code",
   "execution_count": null,
   "id": "a6ab1404",
   "metadata": {},
   "outputs": [],
   "source": [
    "import json\n",
    "import cv2\n",
    "import os\n",
    "import numpy as np\n",
    "from PIL import Image, ImageDraw\n",
    "from pathlib import Path"
   ]
  },
  {
   "cell_type": "code",
   "execution_count": null,
   "id": "39dc951f",
   "metadata": {},
   "outputs": [],
   "source": [
    "def save_masks(directory, mask_data):\n",
    "    # cria uma pasta para salvar as máscaras\n",
    "    path_mask = 'D:/Glaucoma/Banco_de_dados/G1020/masks/'\n",
    "    if not Path(path_mask).exists():\n",
    "        Path(path_mask).mkdir()\n",
    "\n",
    "    shapes = mask_data['shapes']\n",
    "    line_color = tuple(mask_data['lineColor'])\n",
    "    fill_color = tuple(mask_data['fillColor'])\n",
    "\n",
    "    # Abrir a imagem original\n",
    "    image_path = directory + mask_data['imagePath']\n",
    "    image = Image.open(image_path)\n",
    "\n",
    "    # Desenhar a máscara na imagem em branco\n",
    "    for shape in shapes:\n",
    "        blank_img = np.zeros((image.height, image.width), dtype=np.uint8)\n",
    "        points = shape['points']\n",
    "        label = shape['label']\n",
    "\n",
    "        # Converter as coordenadas dos pontos em uma lista de tuplas\n",
    "        points = [(int(point[0]), int(point[1])) for point in points]\n",
    "\n",
    "        # Desenhar o contorno na imagem em branco\n",
    "        cv2.fillPoly(blank_img, [np.array(points)], fill_color)\n",
    "\n",
    "        # Salvar a imagem\n",
    "        mask_filename = label + '_' + mask_data['imagePath']\n",
    "        mask_filepath = os.path.join(path_mask, mask_filename)\n",
    "        cv2.imwrite(mask_filepath, blank_img)\n",
    "        \n",
    "        print(mask_filepath)\n",
    "\n",
    "    return \n",
    "\n"
   ]
  },
  {
   "cell_type": "code",
   "execution_count": null,
   "id": "5ad8512f",
   "metadata": {},
   "outputs": [],
   "source": [
    "# pasta de entrada das imagens e arquivos .json G1020\n",
    "directory = 'D:/Glaucoma/Banco_de_dados/G1020/images/'\n",
    "json_files = [file for file in os.listdir(directory) if file.endswith('.json')]\n",
    "\n",
    "for json_path in json_files:\n",
    "    with open(directory + json_path, 'r') as json_file:\n",
    "        mask_data = json.load(json_file)\n",
    "    save_masks(directory, mask_data)\n",
    "        \n",
    "        \n"
   ]
  },
  {
   "cell_type": "code",
   "execution_count": null,
   "id": "e1a3ecc8",
   "metadata": {},
   "outputs": [],
   "source": []
  }
 ],
 "metadata": {
  "kernelspec": {
   "display_name": "Python 3",
   "language": "python",
   "name": "python3"
  },
  "language_info": {
   "codemirror_mode": {
    "name": "ipython",
    "version": 3
   },
   "file_extension": ".py",
   "mimetype": "text/x-python",
   "name": "python",
   "nbconvert_exporter": "python",
   "pygments_lexer": "ipython3",
   "version": "3.8.8"
  }
 },
 "nbformat": 4,
 "nbformat_minor": 5
}
